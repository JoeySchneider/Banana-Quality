{
 "cells": [
  {
   "cell_type": "code",
   "execution_count": 1,
   "metadata": {},
   "outputs": [],
   "source": [
    "import pandas as pd\n",
    "from sklearn.ensemble import RandomForestRegressor\n",
    "from sklearn.metrics import mean_absolute_error\n",
    "from sklearn.model_selection import train_test_split\n",
    "import numpy as np\n"
   ]
  },
  {
   "cell_type": "code",
   "execution_count": 9,
   "metadata": {},
   "outputs": [
    {
     "name": "stdout",
     "output_type": "stream",
     "text": [
      "0       1\n",
      "1       1\n",
      "2       1\n",
      "3       1\n",
      "4       1\n",
      "       ..\n",
      "7995   -1\n",
      "7996   -1\n",
      "7997   -1\n",
      "7998   -1\n",
      "7999   -1\n",
      "Name: Quality_Num, Length: 8000, dtype: int64\n",
      "Validation MAE for Random Forest Model: 0\n",
      "[ 1.    1.    0.94 ...  1.    1.   -0.9 ]\n"
     ]
    }
   ],
   "source": [
    "#Load the data, and separate the target\n",
    "bananas = pd.read_csv('banana_quality.csv')\n",
    "def quality_to_num(quality):\n",
    "    return 1 if quality == 'Good' else -1\n",
    "bananas['Quality_Num'] = bananas['Quality'].apply(quality_to_num)\n",
    "print(bananas['Quality_Num'])\n",
    "\n",
    "y = bananas.Quality_Num\n",
    "\n",
    "#create X features\n",
    "features = bananas[['Size', 'Weight', 'Sweetness', 'Softness', 'HarvestTime', 'Ripeness', 'Acidity']]\n",
    "\n",
    "X = features\n",
    "X.head()\n",
    "\n",
    "#Split into validation and training data\n",
    "train_X, val_X, train_y, val_y = train_test_split(X, y, random_state=1)\n",
    "\n",
    "#Define a random forest model\n",
    "rf_model = RandomForestRegressor(random_state=1)\n",
    "rf_model.fit(train_X, train_y)\n",
    "rf_val_predictions = rf_model.predict(val_X)\n",
    "rf_val_mae = mean_absolute_error(rf_val_predictions, val_y)\n",
    "print(\"Validation MAE for Random Forest Model: {:,.0f}\".format(rf_val_mae))\n",
    "print(rf_val_predictions)"
   ]
  }
 ],
 "metadata": {
  "kernelspec": {
   "display_name": "base",
   "language": "python",
   "name": "python3"
  },
  "language_info": {
   "codemirror_mode": {
    "name": "ipython",
    "version": 3
   },
   "file_extension": ".py",
   "mimetype": "text/x-python",
   "name": "python",
   "nbconvert_exporter": "python",
   "pygments_lexer": "ipython3",
   "version": "3.11.5"
  }
 },
 "nbformat": 4,
 "nbformat_minor": 2
}
